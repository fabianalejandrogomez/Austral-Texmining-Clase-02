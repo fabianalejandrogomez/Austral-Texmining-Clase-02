{
  "cells": [
    {
      "cell_type": "markdown",
      "metadata": {
        "id": "eeFLfdLvUksk"
      },
      "source": [
        "<a id = \"1.0\"></a>\n",
        "<p style=\"font-size:25px;color:#16268a;font-family:'Avantgarde';text-align:center;border-radius:5px;\">\n",
        "<strong><i>Ejemplo de uso</i></strong></p> "
      ]
    },
    {
      "cell_type": "code",
      "execution_count": 25,
      "metadata": {
        "id": "iJ3DmsdpUksn"
      },
      "outputs": [],
      "source": [
        "from itertools import chain\n",
        "import pprint"
      ]
    },
    {
      "cell_type": "code",
      "execution_count": 26,
      "metadata": {
        "id": "_hPvE32sUksq"
      },
      "outputs": [],
      "source": [
        " import joblib"
      ]
    },
    {
      "cell_type": "code",
      "execution_count": 27,
      "metadata": {
        "id": "Vx1O8x1BUksr"
      },
      "outputs": [],
      "source": [
        "import warnings\n",
        "warnings.filterwarnings(\"ignore\")"
      ]
    },
    {
      "cell_type": "code",
      "execution_count": 28,
      "metadata": {
        "id": "yrF77riuUkss",
        "outputId": "2aaba0e9-9b4d-449b-db71-8dcac59c8738",
        "colab": {
          "base_uri": "https://localhost:8080/"
        }
      },
      "outputs": [
        {
          "output_type": "stream",
          "name": "stdout",
          "text": [
            "[nltk_data] Downloading package punkt to /root/nltk_data...\n",
            "[nltk_data]   Package punkt is already up-to-date!\n",
            "[nltk_data] Downloading package averaged_perceptron_tagger to\n",
            "[nltk_data]     /root/nltk_data...\n",
            "[nltk_data]   Package averaged_perceptron_tagger is already up-to-\n",
            "[nltk_data]       date!\n"
          ]
        },
        {
          "output_type": "execute_result",
          "data": {
            "text/plain": [
              "True"
            ]
          },
          "metadata": {},
          "execution_count": 28
        }
      ],
      "source": [
        "import nltk\n",
        "from nltk import NaiveBayesClassifier as nbc\n",
        "from nltk import word_tokenize\n",
        "nltk.download('punkt')\n",
        "nltk.download('averaged_perceptron_tagger')"
      ]
    },
    {
      "cell_type": "markdown",
      "metadata": {
        "id": "cb8h5w-NUkss"
      },
      "source": [
        "<a id = \"1.0\"></a>\n",
        "<p style=\"font-size:18px;color:#16268a;font-family:'Avantgarde';text-align:left;border-radius:5px;\">\n",
        "<strong>nltk.classify.naivebayes</strong>: https://www.nltk.org/_modules/nltk/classify/naivebayes.html</p> "
      ]
    },
    {
      "cell_type": "markdown",
      "metadata": {
        "id": "L-XoLF_EUkss"
      },
      "source": [
        "<a id = \"1.0\"></a>\n",
        "<p style=\"font-size:20px;color:#16268a;font-family:'Avantgarde';text-align:left;border-radius:5px;\">\n",
        "Oraciones de <strong>Entrenamiento</strong></p> "
      ]
    },
    {
      "cell_type": "code",
      "execution_count": 29,
      "metadata": {
        "id": "dUWjaMMAUkss"
      },
      "outputs": [],
      "source": [
        "oraciones_entrenamiento = [\n",
        "('La vida será todo lo positiva que tú le permitas ser', 'pos'),\n",
        "('Esperar puede ser muy difícil pero recoger los frutos de lo sembrado será un gozo', 'pos'),\n",
        "('Aprender a aceptarte es el primer paso para alcanzar la paz interior', 'pos'),\n",
        "('Sólo el amor tiene la fuerza de cambiar la vida de otra persona en cosas de minutos', 'pos'),\n",
        "(\"Nunca pierdas la esperanza porque la alegría podría entrar por la puerta que olvidaste cerrar\", 'pos'),\n",
        "('No viniste nunca más por aquí', 'neg'),\n",
        "('No entiendo cómo pueden hacer eso', 'neg'),\n",
        "(\"Ya no quedan formas de salir de aquí sin arriesgarse demasiado\", 'neg'),\n",
        "('Espero no equivocarme con mi pronóstico', 'neg'),\n",
        "('No había manera de fallar no puedo creer lo que sucedió', 'neg')]"
      ]
    },
    {
      "cell_type": "markdown",
      "metadata": {
        "id": "mj1zsLtlUkst"
      },
      "source": [
        "<a id = \"1.0\"></a>\n",
        "<p style=\"font-size:20px;color:#16268a;font-family:'Avantgarde';text-align:left;border-radius:5px;\">\n",
        "Oraciones de <strong>prueba</strong></p> "
      ]
    },
    {
      "cell_type": "code",
      "execution_count": 30,
      "metadata": {
        "id": "HjNb_vqgUkst"
      },
      "outputs": [],
      "source": [
        "oriacion_prueba_positiva = \"La única diferencia entre el éxito y el fracaso, es la actitud ante la vida.\"\n",
        "oriacion_prueba_negativa = \"No entiendo nada de lo que enseñaron la semana pasada.\""
      ]
    },
    {
      "cell_type": "markdown",
      "metadata": {
        "id": "xiLEsrJiUkst"
      },
      "source": [
        "<a id = \"1.0\"></a>\n",
        "<p style=\"font-size:25px;color:#16268a;font-family:'Avantgarde';text-align:center;border-radius:5px;\">\n",
        "<strong>______________________________</strong></p> "
      ]
    },
    {
      "cell_type": "markdown",
      "metadata": {
        "id": "8sP8BsawUksu"
      },
      "source": [
        "<a id = \"1.0\"></a>\n",
        "<p style=\"font-size:20px;color:#16268a;font-family:'Avantgarde';text-align:left;border-radius:5px;\">\n",
        "Prueba <strong>I</strong></p> "
      ]
    },
    {
      "cell_type": "code",
      "execution_count": 31,
      "metadata": {
        "id": "qHlCwAx7Uksu"
      },
      "outputs": [],
      "source": [
        "vocabulario = set(chain(*[word_tokenize(i[0].lower()) for i in oraciones_entrenamiento]))"
      ]
    },
    {
      "cell_type": "code",
      "execution_count": 32,
      "metadata": {
        "id": "5PsFEBd8Uksu"
      },
      "outputs": [],
      "source": [
        "array_palabras = [({i:(i in word_tokenize(sentence.lower())) for i in vocabulario},tag) for sentence, tag in oraciones_entrenamiento]"
      ]
    },
    {
      "cell_type": "code",
      "execution_count": 33,
      "metadata": {
        "id": "3n5orIDpUksv"
      },
      "outputs": [],
      "source": [
        "NaiveBClassifier = nbc.train(array_palabras)"
      ]
    },
    {
      "cell_type": "code",
      "execution_count": 34,
      "metadata": {
        "id": "gX379Z-cUksv"
      },
      "outputs": [],
      "source": [
        "array_positiva =  {i:(i in word_tokenize(oriacion_prueba_positiva.lower())) for i in vocabulario}"
      ]
    },
    {
      "cell_type": "code",
      "execution_count": 35,
      "metadata": {
        "id": "fsTmxuljUksv"
      },
      "outputs": [],
      "source": [
        "array_negativo =  {i:(i in word_tokenize(oriacion_prueba_negativa.lower())) for i in vocabulario}"
      ]
    },
    {
      "cell_type": "code",
      "execution_count": 36,
      "metadata": {
        "id": "OSjzr9bqUksv"
      },
      "outputs": [],
      "source": [
        "toPrint = NaiveBClassifier.classify(array_positiva)"
      ]
    },
    {
      "cell_type": "code",
      "execution_count": 37,
      "metadata": {
        "id": "oNCRDJcJUksw",
        "outputId": "5ec83080-1d1a-4b05-e394-60179d80e893",
        "colab": {
          "base_uri": "https://localhost:8080/"
        }
      },
      "outputs": [
        {
          "output_type": "stream",
          "name": "stdout",
          "text": [
            "'La oración contiene un sentimineto: Positivo'\n"
          ]
        }
      ],
      "source": [
        "pprint.pprint(f\"La oración contiene un sentimineto: \" + \"Positivo\" if toPrint == 'pos' else 'Negativo')"
      ]
    },
    {
      "cell_type": "code",
      "execution_count": 38,
      "metadata": {
        "id": "eBr_F855Uksx"
      },
      "outputs": [],
      "source": [
        "toPrint = NaiveBClassifier.classify(array_negativo)"
      ]
    },
    {
      "cell_type": "code",
      "execution_count": 39,
      "metadata": {
        "id": "2fFZF4JCUksx",
        "outputId": "346d6ed8-46cb-4f4b-93d2-474f5d31e4db",
        "colab": {
          "base_uri": "https://localhost:8080/"
        }
      },
      "outputs": [
        {
          "output_type": "stream",
          "name": "stdout",
          "text": [
            "'La oración contiene un sentimineto: Negativo'\n"
          ]
        }
      ],
      "source": [
        "pprint.pprint(f\"La oración contiene un sentimineto: \" + \"Negativo\" if toPrint == 'neg' else 'Positivo')"
      ]
    },
    {
      "cell_type": "markdown",
      "metadata": {
        "id": "uKCGz1VQUksy"
      },
      "source": [
        "<a id = \"1.0\"></a>\n",
        "<p style=\"font-size:20px;color:#16268a;font-family:'Avantgarde';text-align:left;border-radius:5px;\">\n",
        "<strong>Salvar</strong> el modelo para su uso en producción</p> "
      ]
    },
    {
      "cell_type": "code",
      "execution_count": 40,
      "metadata": {
        "id": "l2f8Kv6oUksy"
      },
      "outputs": [],
      "source": [
        "nombreFile = './NaiveBClassifier.joblib.pkl'"
      ]
    },
    {
      "cell_type": "code",
      "execution_count": 41,
      "metadata": {
        "id": "LXUqn1w-Uksy"
      },
      "outputs": [],
      "source": [
        "joblib.dump(NaiveBClassifier, nombreFile, compress=9);"
      ]
    },
    {
      "cell_type": "code",
      "execution_count": 42,
      "metadata": {
        "id": "ecAT7-m-Uksy"
      },
      "outputs": [],
      "source": [
        "nombreFileVocab = './Vocabulario.joblib.pkl'"
      ]
    },
    {
      "cell_type": "code",
      "execution_count": 43,
      "metadata": {
        "id": "utmErDlQUksy"
      },
      "outputs": [],
      "source": [
        "joblib.dump(vocabulario, nombreFileVocab, compress=9);"
      ]
    },
    {
      "cell_type": "markdown",
      "metadata": {
        "id": "_9pIaoJWUksy"
      },
      "source": [
        "<a id = \"1.0\"></a>\n",
        "<p style=\"font-size:25px;color:#16268a;font-family:'Avantgarde';text-align:center;border-radius:5px;\">\n",
        "<strong>______________________________</strong></p> "
      ]
    },
    {
      "cell_type": "markdown",
      "metadata": {
        "id": "Gji_C0_LUksz"
      },
      "source": [
        "<a id = \"1.0\"></a>\n",
        "<p style=\"font-size:20px;color:#16268a;font-family:'Avantgarde';text-align:left;border-radius:5px;\">\n",
        "<strong>Cargar</strong> el modelo para su uso, En Producción</p> "
      ]
    },
    {
      "cell_type": "code",
      "execution_count": 44,
      "metadata": {
        "id": "y9mtV1hEUksz"
      },
      "outputs": [],
      "source": [
        "import warnings\n",
        "warnings.filterwarnings(\"ignore\")"
      ]
    },
    {
      "cell_type": "code",
      "execution_count": 45,
      "metadata": {
        "id": "lwlBnJ7LUksz"
      },
      "outputs": [],
      "source": [
        "from nltk import word_tokenize"
      ]
    },
    {
      "cell_type": "code",
      "execution_count": 46,
      "metadata": {
        "id": "2bzZHWYrUksz"
      },
      "outputs": [],
      "source": [
        " import joblib"
      ]
    },
    {
      "cell_type": "code",
      "execution_count": 47,
      "metadata": {
        "id": "ngyU270gUksz"
      },
      "outputs": [],
      "source": [
        "import pprint"
      ]
    },
    {
      "cell_type": "code",
      "execution_count": 48,
      "metadata": {
        "id": "T8hAVeNxUksz"
      },
      "outputs": [],
      "source": [
        "nombreFile = './NaiveBClassifier.joblib.pkl'"
      ]
    },
    {
      "cell_type": "code",
      "execution_count": 49,
      "metadata": {
        "id": "VrilQ4aeUksz"
      },
      "outputs": [],
      "source": [
        "NaiveBClassifier = joblib.load(nombreFile)"
      ]
    },
    {
      "cell_type": "code",
      "execution_count": 50,
      "metadata": {
        "id": "Nzq-zh97Uks0"
      },
      "outputs": [],
      "source": [
        "nombreFileVocab = './Vocabulario.joblib.pkl'"
      ]
    },
    {
      "cell_type": "code",
      "execution_count": 51,
      "metadata": {
        "id": "Uv2qWnEXUks0"
      },
      "outputs": [],
      "source": [
        "vocabulario = joblib.load(nombreFileVocab)"
      ]
    },
    {
      "cell_type": "code",
      "execution_count": 52,
      "metadata": {
        "id": "dYD2UIZhUks0"
      },
      "outputs": [],
      "source": [
        "oriacion_prueba_positiva = \"La única diferencia entre el éxito y el fracaso, es la actitud ante la vida.\"\n",
        "oriacion_prueba_negativa = \"No entiendo nada de lo que enseñaron la semana pasada.\""
      ]
    },
    {
      "cell_type": "code",
      "execution_count": 53,
      "metadata": {
        "id": "gp-ucBmRUks0"
      },
      "outputs": [],
      "source": [
        "array_positiva =  {i:(i in word_tokenize(oriacion_prueba_positiva.lower())) for i in vocabulario}"
      ]
    },
    {
      "cell_type": "code",
      "execution_count": 54,
      "metadata": {
        "id": "XjuI-5LqUks0"
      },
      "outputs": [],
      "source": [
        "array_negativo =  {i:(i in word_tokenize(oriacion_prueba_negativa.lower())) for i in vocabulario}"
      ]
    },
    {
      "cell_type": "code",
      "execution_count": 55,
      "metadata": {
        "id": "ru2mOXnuUks0"
      },
      "outputs": [],
      "source": [
        "toPrint = NaiveBClassifier.classify(array_positiva)"
      ]
    },
    {
      "cell_type": "code",
      "execution_count": 56,
      "metadata": {
        "id": "CxLF5I6tUks0",
        "outputId": "597b98f1-77cc-4642-da02-82a857609460",
        "colab": {
          "base_uri": "https://localhost:8080/"
        }
      },
      "outputs": [
        {
          "output_type": "stream",
          "name": "stdout",
          "text": [
            "'La oración contiene un sentimineto: Positivo'\n"
          ]
        }
      ],
      "source": [
        "pprint.pprint(f\"La oración contiene un sentimineto: \" + \"Positivo\" if toPrint == 'pos' else 'Negativo')"
      ]
    },
    {
      "cell_type": "code",
      "execution_count": 57,
      "metadata": {
        "id": "aqm4C8YzUks1"
      },
      "outputs": [],
      "source": [
        "toPrint = NaiveBClassifier.classify(array_negativo)"
      ]
    },
    {
      "cell_type": "code",
      "execution_count": 58,
      "metadata": {
        "id": "i4llY19MUks1",
        "outputId": "7c74ad06-961c-4e73-c4a2-eea39ac71607",
        "colab": {
          "base_uri": "https://localhost:8080/"
        }
      },
      "outputs": [
        {
          "output_type": "stream",
          "name": "stdout",
          "text": [
            "'La oración contiene un sentimineto: Negativo'\n"
          ]
        }
      ],
      "source": [
        "pprint.pprint(f\"La oración contiene un sentimineto: \" + \"Negativo\" if toPrint == 'neg' else 'Positivo')"
      ]
    },
    {
      "cell_type": "markdown",
      "metadata": {
        "id": "EqFmcweiUks1"
      },
      "source": [
        "<a id = \"1.0\"></a>\n",
        "<p style=\"font-size:25px;color:#16268a;font-family:'Avantgarde';text-align:center;border-radius:5px;\">\n",
        "<strong>______________________________</strong></p> "
      ]
    },
    {
      "cell_type": "markdown",
      "metadata": {
        "id": "f4P0OYuNUks1"
      },
      "source": [
        "<a id = \"1.0\"></a>\n",
        "<p style=\"font-size:20px;color:#16268a;font-family:'Avantgarde';text-align:left;border-radius:5px;\">\n",
        "Ejemplo <strong>II</strong>:</p> "
      ]
    },
    {
      "cell_type": "code",
      "execution_count": 59,
      "metadata": {
        "id": "VPy07TESUks1"
      },
      "outputs": [],
      "source": [
        "from sklearn.feature_extraction.text import CountVectorizer\n",
        "from sklearn.feature_extraction.text import TfidfTransformer\n",
        "from sklearn.naive_bayes import MultinomialNB\n",
        "from sklearn.pipeline import Pipeline"
      ]
    },
    {
      "cell_type": "code",
      "execution_count": 60,
      "metadata": {
        "id": "JZDBlLX4Uks1"
      },
      "outputs": [],
      "source": [
        "entrenamiento = [\n",
        "'La vida será todo lo positiva que tú le permitas ser',\n",
        "'Esperar puede ser muy difícil pero recoger los frutos de lo sembrado será un gozo',\n",
        "'Aprender a aceptarte es el primer paso para alcanzar la paz interior',\n",
        "'Sólo el amor tiene la fuerza de cambiar la vida de otra persona en cosas de minutos',\n",
        "\"Nunca pierdas la esperanza porque la alegría podría entrar por la puerta que olvidaste cerrar\",\n",
        "'No viniste nunca más por aquí',\n",
        "'No entiendo cómo pueden hacer eso',\n",
        "\"Ya no quedan formas de salir de aquí sin arriesgarse demasiado\",\n",
        "'Espero no equivocarme con mi pronóstico',\n",
        "'No había manera de fallar no puedo creer lo que sucedió']"
      ]
    },
    {
      "cell_type": "code",
      "execution_count": 61,
      "metadata": {
        "id": "KJol7GTXUks2"
      },
      "outputs": [],
      "source": [
        "sentimiento = [0,0,0,0,0,1,1,1,1,1] # 0=Positivo - 1=Negativo"
      ]
    },
    {
      "cell_type": "code",
      "execution_count": 62,
      "metadata": {
        "id": "c7XevjJCUks3"
      },
      "outputs": [],
      "source": [
        "oriacion_prueba_positiva = [\"La única diferencia entre el éxito y el fracaso, es la actitud ante la vida.\"]\n",
        "oriacion_prueba_negativa = [\"No entiendo nada de lo que enseñaron la semana pasada.\"]"
      ]
    },
    {
      "cell_type": "code",
      "execution_count": 63,
      "metadata": {
        "id": "UgZK0SlyUks3"
      },
      "outputs": [],
      "source": [
        "text_clf = Pipeline([('vect' , CountVectorizer()), \n",
        "                     ('tfidf', TfidfTransformer()), \n",
        "                     ('clf'  , MultinomialNB())\n",
        "                    ])"
      ]
    },
    {
      "cell_type": "code",
      "execution_count": 64,
      "metadata": {
        "id": "GVvCH1QDUks3"
      },
      "outputs": [],
      "source": [
        "text_clf = text_clf.fit(entrenamiento, sentimiento)"
      ]
    },
    {
      "cell_type": "code",
      "execution_count": 65,
      "metadata": {
        "id": "4nc_LoULUks8"
      },
      "outputs": [],
      "source": [
        "predicted = text_clf.predict(oriacion_prueba_positiva)"
      ]
    },
    {
      "cell_type": "code",
      "execution_count": 66,
      "metadata": {
        "id": "6j3o8xPfUks-",
        "outputId": "05e4f273-8ace-4233-fb21-b61f42499634",
        "colab": {
          "base_uri": "https://localhost:8080/"
        }
      },
      "outputs": [
        {
          "output_type": "stream",
          "name": "stdout",
          "text": [
            "'Oracion Positiva'\n"
          ]
        }
      ],
      "source": [
        "pprint.pprint('Oracion Positiva' if predicted[0] == 0 else 'Oracion Negativa')"
      ]
    },
    {
      "cell_type": "code",
      "execution_count": 67,
      "metadata": {
        "id": "qtPeiyZYUktB"
      },
      "outputs": [],
      "source": [
        "predicted = text_clf.predict(oriacion_prueba_negativa)"
      ]
    },
    {
      "cell_type": "code",
      "execution_count": 68,
      "metadata": {
        "id": "B7Giwq-nUktB",
        "outputId": "b55bdcd3-d616-4f31-cbb4-026415886745",
        "colab": {
          "base_uri": "https://localhost:8080/"
        }
      },
      "outputs": [
        {
          "output_type": "stream",
          "name": "stdout",
          "text": [
            "'Oracion Negativa'\n"
          ]
        }
      ],
      "source": [
        "pprint.pprint('Oracion Positiva' if predicted[0] == 0 else 'Oracion Negativa')"
      ]
    },
    {
      "cell_type": "markdown",
      "metadata": {
        "id": "R1rHUJerUktB"
      },
      "source": [
        "<a id = \"1.0\"></a>\n",
        "<p style=\"font-size:25px;color:#16268a;font-family:'Avantgarde';text-align:center;border-radius:5px;\">\n",
        "<strong>______________________________</strong></p> "
      ]
    }
  ],
  "metadata": {
    "kernelspec": {
      "display_name": "nlp",
      "language": "python",
      "name": "nlp"
    },
    "language_info": {
      "codemirror_mode": {
        "name": "ipython",
        "version": 3
      },
      "file_extension": ".py",
      "mimetype": "text/x-python",
      "name": "python",
      "nbconvert_exporter": "python",
      "pygments_lexer": "ipython3",
      "version": "3.8.13"
    },
    "colab": {
      "name": "01-03 Practica.ipynb",
      "provenance": []
    }
  },
  "nbformat": 4,
  "nbformat_minor": 0
}